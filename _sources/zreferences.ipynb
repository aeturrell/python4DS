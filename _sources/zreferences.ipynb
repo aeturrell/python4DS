{
 "cells": [
  {
   "cell_type": "markdown",
   "id": "f6ba7fa5",
   "metadata": {},
   "source": [
    "# Bibliography\n",
    "\n",
    "```{bibliography} references.bib\n",
    ":style: unsrtalpha\n",
    "```"
   ]
  }
 ],
 "metadata": {
  "jupytext": {
   "formats": "md:myst",
   "text_representation": {
    "extension": ".md",
    "format_name": "myst"
   }
  },
  "kernelspec": {
   "display_name": "py4ds2e",
   "language": "python",
   "name": "python3"
  },
  "language_info": {
   "codemirror_mode": {
    "name": "ipython",
    "version": 3
   },
   "file_extension": ".py",
   "mimetype": "text/x-python",
   "name": "python",
   "nbconvert_exporter": "python",
   "pygments_lexer": "ipython3",
   "version": "3.10.15"
  },
  "source_map": [
   11
  ]
 },
 "nbformat": 4,
 "nbformat_minor": 5
}